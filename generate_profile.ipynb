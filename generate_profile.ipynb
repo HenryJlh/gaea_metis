{
 "cells": [
  {
   "cell_type": "code",
   "execution_count": 17,
   "metadata": {},
   "outputs": [],
   "source": [
    "from gpu_cluster import GPUCluster\n",
    "gpu_cluster = GPUCluster(hostfile_path='hostfile', clusterfile_path='clusterfile.json')"
   ]
  },
  {
   "cell_type": "code",
   "execution_count": 18,
   "metadata": {},
   "outputs": [
    {
     "data": {
      "text/plain": [
       "{0: GPUNode(device_type=<DeviceType.V100: 'v100'>, num_devices=4),\n",
       " 1: GPUNode(device_type=<DeviceType.P100: 'p100'>, num_devices=4),\n",
       " 2: GPUNode(device_type=<DeviceType.T4: 't4'>, num_devices=4),\n",
       " 3: GPUNode(device_type=<DeviceType.A100: 'a100'>, num_devices=4)}"
      ]
     },
     "execution_count": 18,
     "metadata": {},
     "output_type": "execute_result"
    }
   ],
   "source": [
    "gpu_cluster.nodes"
   ]
  },
  {
   "cell_type": "code",
   "execution_count": 22,
   "metadata": {},
   "outputs": [],
   "source": [
    "from data_loader import ProfileDataLoader\n",
    "data_loader = ProfileDataLoader('profile')"
   ]
  },
  {
   "cell_type": "code",
   "execution_count": 23,
   "metadata": {},
   "outputs": [
    {
     "data": {
      "text/plain": [
       "['DeviceType.A30_tp1_bs8.json',\n",
       " 'DeviceType.A30_tp2_bs8.json',\n",
       " 'DeviceType.A30_tp4_bs8.json']"
      ]
     },
     "execution_count": 23,
     "metadata": {},
     "output_type": "execute_result"
    }
   ],
   "source": [
    "data_loader.profile_data_list"
   ]
  },
  {
   "cell_type": "code",
   "execution_count": 24,
   "metadata": {},
   "outputs": [
    {
     "data": {
      "text/plain": [
       "'e:\\\\University_ZJUI\\\\Metis'"
      ]
     },
     "execution_count": 24,
     "metadata": {},
     "output_type": "execute_result"
    }
   ],
   "source": [
    "import os\n",
    "# current working directory\n",
    "os.getcwd()"
   ]
  },
  {
   "cell_type": "code",
   "execution_count": 1,
   "metadata": {},
   "outputs": [],
   "source": [
    "import os\n",
    "import shutil\n",
    "\n",
    "# 原始文件路径\n",
    "source_file = './example_profile.json'\n",
    "\n",
    "# 目标文件结构信息\n",
    "device_types = ['A100', 'V100']\n",
    "tp_values = ['tp1', 'tp2', 'tp3', 'tp4', 'tp8', 'tp16', 'tp32', 'tp64']\n",
    "bs_values = ['bs1', 'bs2', 'bs4', 'bs8', 'bs16']\n",
    "\n",
    "def create_file_structure():\n",
    "    for device in device_types:\n",
    "        for tp in tp_values:\n",
    "            for bs in bs_values:\n",
    "                # 构造目标文件路径\n",
    "                target_file = f'./profile/DeviceType.{device}_{tp}_{bs}.json'\n",
    "                # 创建必要的目录\n",
    "                os.makedirs(os.path.dirname(target_file), exist_ok=True)\n",
    "                # 复制文件内容\n",
    "                shutil.copy(source_file, target_file)"
   ]
  },
  {
   "cell_type": "code",
   "execution_count": 2,
   "metadata": {},
   "outputs": [],
   "source": [
    "create_file_structure()"
   ]
  },
  {
   "cell_type": "code",
   "execution_count": null,
   "metadata": {},
   "outputs": [],
   "source": []
  }
 ],
 "metadata": {
  "kernelspec": {
   "display_name": "base",
   "language": "python",
   "name": "python3"
  },
  "language_info": {
   "codemirror_mode": {
    "name": "ipython",
    "version": 3
   },
   "file_extension": ".py",
   "mimetype": "text/x-python",
   "name": "python",
   "nbconvert_exporter": "python",
   "pygments_lexer": "ipython3",
   "version": "3.8.8"
  }
 },
 "nbformat": 4,
 "nbformat_minor": 2
}
